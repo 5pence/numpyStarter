{
 "cells": [
  {
   "cell_type": "code",
   "execution_count": 10,
   "id": "9b165902",
   "metadata": {},
   "outputs": [
    {
     "name": "stdout",
     "output_type": "stream",
     "text": [
      "<class 'list'> <class 'numpy.ndarray'>\n",
      "[1, 2, 3, 1, 2, 3]\n",
      "[2 4 6]\n"
     ]
    }
   ],
   "source": [
    "my_list = [1, 2, 3]\n",
    "import numpy as np\n",
    "my_array = np.array([1, 2, 3])\n",
    "print(type(my_list), type(my_array))\n",
    "\n",
    "print(my_list * 2)\n",
    "print(my_array * 2)\n",
    "\n"
   ]
  },
  {
   "cell_type": "markdown",
   "id": "462180d9",
   "metadata": {},
   "source": [
    "## Creating Arrays"
   ]
  },
  {
   "cell_type": "code",
   "execution_count": 14,
   "id": "a8e29a89",
   "metadata": {},
   "outputs": [
    {
     "name": "stdout",
     "output_type": "stream",
     "text": [
      "[1, 3, 5, 7, 9] [1 3 5 7 9]\n",
      "==============\n",
      "[[0. 0. 0.]\n",
      " [0. 0. 0.]]\n",
      "==============\n",
      "[[1. 1. 1. 1. 1.]\n",
      " [1. 1. 1. 1. 1.]]\n",
      "==============\n",
      "[0.   0.25 0.5  0.75 1.  ]\n",
      "==============\n",
      "[[0.15349988 0.1850671 ]\n",
      " [0.13772618 0.76082784]]\n",
      "==============\n",
      "[[8 9 3]\n",
      " [9 7 5]\n",
      " [2 6 7]]\n",
      "==============\n"
     ]
    }
   ],
   "source": [
    "a = list(range(1, 10, 2))\n",
    "b = np.arange(1, 10, 2)\n",
    "print(a, b)\n",
    "print(\"==============\")\n",
    "c = np.zeros((2, 3))\n",
    "d = np.ones((2, 5))\n",
    "print(c)\n",
    "print(\"==============\")\n",
    "print(d)\n",
    "print(\"==============\")\n",
    "print(np.linspace(0, 1, 5))\n",
    "print(\"==============\")\n",
    "print(np.random.rand(2, 2))\n",
    "print(\"==============\")\n",
    "print(np.random.randint(1, 10, (3, 3)))\n",
    "print(\"==============\")"
   ]
  },
  {
   "cell_type": "markdown",
   "id": "b03cc444",
   "metadata": {},
   "source": [
    "Create a a 4 x 4 grid filled with random integers from 1 to 20 inclusive."
   ]
  },
  {
   "cell_type": "code",
   "execution_count": 18,
   "id": "f55b726e",
   "metadata": {},
   "outputs": [
    {
     "name": "stdout",
     "output_type": "stream",
     "text": [
      "[[ 8  7  1  9]\n",
      " [20  1  6 17]\n",
      " [ 9  4 17  9]\n",
      " [10 14 14 20]]\n"
     ]
    }
   ],
   "source": [
    "print(np.random.randint(1, 21, (4, 4)))  # starting number, up to not inc(grid c, grid r)"
   ]
  },
  {
   "cell_type": "code",
   "execution_count": null,
   "id": "ba6356bd",
   "metadata": {},
   "outputs": [
    {
     "name": "stdout",
     "output_type": "stream",
     "text": [
      "[2 4 6 8]\n",
      "[11 12 13 14]\n",
      "[1.         1.41421356 1.73205081 2.        ]\n"
     ]
    }
   ],
   "source": [
    "a = np.array([1, 2, 3, 4])\n",
    "print(a * 2)\n",
    "print(a + 10)\n",
    "print(np.sqrt(a))\n",
    "\n",
    "# in python\n",
    "my_list = [1, 2, 3, 4]\n",
    "print((n * 2) for n in my_list)\n",
    "\n",
    "# Python needs loops (slow)\n",
    "# Numpy arrays apply operations directly (vectorised, fast, less code)\n",
    "\n",
    "\n"
   ]
  },
  {
   "cell_type": "code",
   "execution_count": 21,
   "id": "ee6f48c0",
   "metadata": {},
   "outputs": [
    {
     "name": "stdout",
     "output_type": "stream",
     "text": [
      "Python list loop: 0.3030 seconds\n",
      "NumPy vectorised: 0.0082 seconds\n",
      "41.69892473118279\n"
     ]
    }
   ],
   "source": [
    "import numpy as np\n",
    "import time\n",
    "import math\n",
    "\n",
    "# Create big data\n",
    "N = 10_000_000\n",
    "my_list = list(range(N))\n",
    "arr = np.arange(N)\n",
    "\n",
    "# Python loop version\n",
    "t0 = time.perf_counter()\n",
    "roots_list = [math.sqrt(x) for x in my_list]\n",
    "t1 = time.perf_counter()\n",
    "\n",
    "# NumPy version (vectorised)\n",
    "roots_arr = np.sqrt(arr)\n",
    "t2 = time.perf_counter()\n",
    "\n",
    "print(f\"Python list loop: {t1 - t0:.4f} seconds\")\n",
    "print(f\"NumPy vectorised: {t2 - t1:.4f} seconds\")\n",
    "\n",
    "print(1.1634/0.0279)"
   ]
  },
  {
   "cell_type": "markdown",
   "id": "e9873998",
   "metadata": {},
   "source": [
    "## Indexing and Slicing"
   ]
  },
  {
   "cell_type": "code",
   "execution_count": 26,
   "id": "4771bab8",
   "metadata": {},
   "outputs": [
    {
     "name": "stdout",
     "output_type": "stream",
     "text": [
      "[10 20 30]\n",
      "[30 40 50]\n",
      "[10 20]\n",
      "[40 50]\n",
      "[[1 2 3]\n",
      " [4 5 6]\n",
      " [7 8 9]]\n",
      "2\n",
      "[1 4 7]\n"
     ]
    }
   ],
   "source": [
    "a = np.array([10, 20, 30, 40, 50])\n",
    "print(a[0:3])\n",
    "print(a[2:])\n",
    "print(a[:2])\n",
    "print(a[-2:])\n",
    "\n",
    "m = np.arange(1, 10).reshape(3, 3)\n",
    "print(m)\n",
    "print(m[0, 1])\n",
    "print(m[:, 0])"
   ]
  },
  {
   "cell_type": "markdown",
   "id": "6ed68fac",
   "metadata": {},
   "source": [
    "## Exercise given the 3x3 matrix:\n",
    "- find the middle row\n",
    "- and the last column  "
   ]
  },
  {
   "cell_type": "code",
   "execution_count": 39,
   "id": "a24ccf3d",
   "metadata": {},
   "outputs": [
    {
     "data": {
      "image/png": "[encoded data removed]",
      "text/plain": [
       "<Figure size 640x480 with 1 Axes>"
      ]
     },
     "metadata": {},
     "output_type": "display_data"
    }
   ],
   "source": [
    "import matplotlib.pyplot as plt\n",
    "img = np.random.randint(0, 255, size=(100, 100))\n",
    "plt.imshow(img, cmap=\"Set3\")\n",
    "plt.show()\n",
    "\n",
    "# https://matplotlib.org/stable/users/explain/colors/colormaps.html\n"
   ]
  },
  {
   "cell_type": "markdown",
   "id": "be6d8cf9",
   "metadata": {},
   "source": [
    "## Progress next week needs to be up to:\n",
    "\n",
    "Python and Data Analysis Libraries → Basics of data manipulation and governance → \n",
    "Data Collection, Data Cleaning, Feature Engineering, Data Augmentation"
   ]
  },
  {
   "cell_type": "markdown",
   "id": "71af2153",
   "metadata": {},
   "source": []
  }
 ],
 "metadata": {
  "kernelspec": {
   "display_name": "base",
   "language": "python",
   "name": "python3"
  },
  "language_info": {
   "codemirror_mode": {
    "name": "ipython",
    "version": 3
   },
   "file_extension": ".py",
   "mimetype": "text/x-python",
   "name": "python",
   "nbconvert_exporter": "python",
   "pygments_lexer": "ipython3",
   "version": "3.12.3"
  }
 },
 "nbformat": 4,
 "nbformat_minor": 5
}
